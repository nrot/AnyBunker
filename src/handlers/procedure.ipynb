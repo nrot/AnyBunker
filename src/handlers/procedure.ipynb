{
 "cells": [
  {
   "cell_type": "code",
   "execution_count": 24,
   "metadata": {},
   "outputs": [],
   "source": [
    "data = {\n",
    "    \"type\": \"test\",\n",
    "    \"origin\": \"example.com\",\n",
    "    \"message\": {\n",
    "      \"pixels\": [\n",
    "        {\n",
    "          \"name\": \"pixel_1\",\n",
    "          \"value\": \"45678\"\n",
    "        },\n",
    "        {\n",
    "          \"name\": \"pixel_2\",\n",
    "          \"value\": \"35123\"\n",
    "        },\n",
    "        {\n",
    "          \"next\": \"\"\n",
    "        }\n",
    "      ]\n",
    "    }\n",
    "  }"
   ]
  },
  {
   "cell_type": "code",
   "execution_count": 25,
   "metadata": {},
   "outputs": [
    {
     "data": {
      "text/plain": [
       "{'message.pixels.name',\n",
       " 'message.pixels.next',\n",
       " 'message.pixels.value',\n",
       " 'origin',\n",
       " 'type'}"
      ]
     },
     "execution_count": 25,
     "metadata": {},
     "output_type": "execute_result"
    }
   ],
   "source": [
    "from typing import List, Union\n",
    "\n",
    "def f(d: Union[dict, list])->List[str]:\n",
    "    re = set()\n",
    "    if type(d) is dict:\n",
    "        for k in d:\n",
    "            v = d[k]\n",
    "            if type(v) is dict or type(v) is list:\n",
    "                for ki in f(v):\n",
    "                    re.add(f\"{k}.{ki}\")\n",
    "            else:\n",
    "                re.add(k)\n",
    "    elif type(d) is list:\n",
    "        for v in d:\n",
    "            if type(v) is dict or type(v) is list:\n",
    "                for k in f(v):\n",
    "                    re.add(k)\n",
    "    return re\n",
    "\n",
    "    \n",
    "f(data)"
   ]
  },
  {
   "cell_type": "code",
   "execution_count": null,
   "metadata": {},
   "outputs": [],
   "source": [
    "re = set()\n",
    "if type(d) is dict:\n",
    "    for k in d:\n",
    "        v = d[k]\n",
    "        if type(v) is dict or type(v) is list:\n",
    "            for ki in f(v):\n",
    "                re.add(f\"{k}.{ki}\")\n",
    "        else:\n",
    "            re.add(k)\n",
    "elif type(d) is list:\n",
    "    for v in d:\n",
    "        if type(v) is dict or type(v) is list:\n",
    "            for k in f(v):\n",
    "                re.add(k)\n",
    "else:\n",
    "    re.add(str(type(d)))\n",
    "return re"
   ]
  }
 ],
 "metadata": {
  "interpreter": {
   "hash": "8a94588eda9d64d9e9a351ab8144e55b1fabf5113b54e67dd26a8c27df0381b3"
  },
  "kernelspec": {
   "display_name": "Python 3.10.4 64-bit",
   "language": "python",
   "name": "python3"
  },
  "language_info": {
   "codemirror_mode": {
    "name": "ipython",
    "version": 3
   },
   "file_extension": ".py",
   "mimetype": "text/x-python",
   "name": "python",
   "nbconvert_exporter": "python",
   "pygments_lexer": "ipython3",
   "version": "3.10.4"
  },
  "orig_nbformat": 4
 },
 "nbformat": 4,
 "nbformat_minor": 2
}
